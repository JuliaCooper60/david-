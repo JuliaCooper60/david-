{
 "cells": [
  {
   "cell_type": "code",
   "execution_count": 7,
   "id": "34737f69",
   "metadata": {},
   "outputs": [],
   "source": [
    "#import dependencies \n",
    "import json\n",
    "import requests\n",
    "import pandas as pd\n",
    "from io import StringIO\n",
    "import numpy as np\n",
    "import warnings\n",
    "warnings.filterwarnings('ignore')"
   ]
  },
  {
   "cell_type": "code",
   "execution_count": 2,
   "id": "5f2aa3f8",
   "metadata": {},
   "outputs": [],
   "source": [
    "\n",
    "# Review abs API documentation and liase with abs data custodians to identify required data points to source\n",
    "# population data data from abs API \n",
    "url = \"https://api.data.abs.gov.au/data/C21_G04_LGA/....2\""
   ]
  },
  {
   "cell_type": "code",
   "execution_count": 2,
   "id": "8ac1ff2f",
   "metadata": {
    "scrolled": false
   },
   "outputs": [],
   "source": []
  },
  {
   "cell_type": "code",
   "execution_count": 1,
   "id": "7124eea6",
   "metadata": {},
   "outputs": [],
   "source": [
    "# jc_data_all_df['started_at'] = pd.to_datetime(jc_data_all_df['started_at'])\n",
    "# jc_data_all_df['ended_at'] = pd.to_datetime(jc_data_all_df['ended_at'])\n",
    "# (jc_data_all_df.ended_at-jc_data_all_df.started_at).astype('timedelta64[m]')"
   ]
  },
  {
   "cell_type": "code",
   "execution_count": 7,
   "id": "859df09c",
   "metadata": {
    "scrolled": true
   },
   "outputs": [],
   "source": [
    "# jc_data_all_clean_df=jc_data_all_df[jc_data_all_df['started_at']<'2022-09-01 00:00:00']"
   ]
  },
  {
   "cell_type": "code",
   "execution_count": 3,
   "id": "25c115ba",
   "metadata": {},
   "outputs": [],
   "source": [
    "# jc_data_all_df.head()"
   ]
  },
  {
   "cell_type": "code",
   "execution_count": 4,
   "id": "97a677db",
   "metadata": {
    "scrolled": false
   },
   "outputs": [],
   "source": [
    "# jc_data_all_clean_df['started_at'].loc[jc_data_all_df['started_at'] >'2022-09-01 00:00:00']"
   ]
  },
  {
   "cell_type": "code",
   "execution_count": 5,
   "id": "4d5c092d",
   "metadata": {
    "scrolled": true
   },
   "outputs": [],
   "source": [
    "# jc_data_all_clean_df.info()"
   ]
  },
  {
   "cell_type": "code",
   "execution_count": 6,
   "id": "3711925a",
   "metadata": {},
   "outputs": [],
   "source": [
    "# jc_data_all_clean_df.to_csv('jc_citbikes_clean.csv',index=0)\n",
    "# jc_citbikes_clean = pd.read_csv('jc_citbikes_clean.csv')"
   ]
  },
  {
   "cell_type": "code",
   "execution_count": null,
   "id": "63b81484",
   "metadata": {},
   "outputs": [],
   "source": []
  }
 ],
 "metadata": {
  "kernelspec": {
   "display_name": "Python [conda env:bootcamp] *",
   "language": "python",
   "name": "conda-env-bootcamp-py"
  },
  "language_info": {
   "codemirror_mode": {
    "name": "ipython",
    "version": 3
   },
   "file_extension": ".py",
   "mimetype": "text/x-python",
   "name": "python",
   "nbconvert_exporter": "python",
   "pygments_lexer": "ipython3",
   "version": "3.7.13"
  }
 },
 "nbformat": 4,
 "nbformat_minor": 5
}
